{
  "nbformat": 4,
  "nbformat_minor": 0,
  "metadata": {
    "colab": {
      "provenance": []
    },
    "kernelspec": {
      "name": "python3",
      "display_name": "Python 3"
    }
  },
  "cells": [
    {
      "cell_type": "markdown",
      "metadata": {
        "id": "G6L-LrRiOtdh"
      },
      "source": [
        "# Pandas plotting\n",
        "\n",
        "\"Pandas\" allows you to plot data stored in it directly. This function can be beneficial if you are working with unknown data. It is standard practice in machine learning to visualize the data and study it before starting work on it. Here, we discuss a few ways to visualize data using pandas."
      ]
    },
    {
      "cell_type": "markdown",
      "metadata": {
        "id": "LbFdBhmCQ1_H"
      },
      "source": [
        "## Line graphs\n",
        "This type of graph is the kind of plot you imagine when you think about the stock market. This type of data is usually time-series data, which means that you look at how the data behaves as a function of time."
      ]
    },
    {
      "cell_type": "code",
      "metadata": {
        "id": "vMn8N_4gRHOF"
      },
      "source": [
        "import pandas as pd\n",
        "import numpy as np\n",
        "\n",
        "\n",
        "df = pd.DataFrame(np.random.randn(1000, 2), columns=['My weight', 'C']).cumsum()\n",
        "df['no of days'] = pd.Series(list(range(1000)))"
      ],
      "execution_count": null,
      "outputs": []
    },
    {
      "cell_type": "markdown",
      "metadata": {
        "id": "0JfySXO4RwHR"
      },
      "source": [
        "You can ignore the above code if you want because the code is generating random data. First, we create a new DataFrame df, and then fill the columns B and C with 1000 random numbers. The \"2\" after the number thousand indicates the two columns. The method `cumsum()` stands for cumulative sum. Thus for every new number randomly generated, the function adds it to the previous number.\n",
        "\n",
        "After this, we create column A which is just integers from 0 to 1000.\n",
        "\n",
        "Let us look at the finished data."
      ]
    },
    {
      "cell_type": "code",
      "metadata": {
        "id": "WqoVWFOPSW9X",
        "colab": {
          "base_uri": "https://localhost:8080/",
          "height": 206
        },
        "outputId": "1b36a13a-ad31-47e3-dc09-dd40ecde2516"
      },
      "source": [
        "df.head()"
      ],
      "execution_count": null,
      "outputs": [
        {
          "output_type": "execute_result",
          "data": {
            "text/html": [
              "<div>\n",
              "<style scoped>\n",
              "    .dataframe tbody tr th:only-of-type {\n",
              "        vertical-align: middle;\n",
              "    }\n",
              "\n",
              "    .dataframe tbody tr th {\n",
              "        vertical-align: top;\n",
              "    }\n",
              "\n",
              "    .dataframe thead th {\n",
              "        text-align: right;\n",
              "    }\n",
              "</style>\n",
              "<table border=\"1\" class=\"dataframe\">\n",
              "  <thead>\n",
              "    <tr style=\"text-align: right;\">\n",
              "      <th></th>\n",
              "      <th>My weight</th>\n",
              "      <th>C</th>\n",
              "      <th>no of days</th>\n",
              "    </tr>\n",
              "  </thead>\n",
              "  <tbody>\n",
              "    <tr>\n",
              "      <th>0</th>\n",
              "      <td>1.276286</td>\n",
              "      <td>-1.262217</td>\n",
              "      <td>0</td>\n",
              "    </tr>\n",
              "    <tr>\n",
              "      <th>1</th>\n",
              "      <td>2.189809</td>\n",
              "      <td>-2.402414</td>\n",
              "      <td>1</td>\n",
              "    </tr>\n",
              "    <tr>\n",
              "      <th>2</th>\n",
              "      <td>0.986368</td>\n",
              "      <td>-3.758331</td>\n",
              "      <td>2</td>\n",
              "    </tr>\n",
              "    <tr>\n",
              "      <th>3</th>\n",
              "      <td>0.669303</td>\n",
              "      <td>-4.756384</td>\n",
              "      <td>3</td>\n",
              "    </tr>\n",
              "    <tr>\n",
              "      <th>4</th>\n",
              "      <td>0.867726</td>\n",
              "      <td>-4.895289</td>\n",
              "      <td>4</td>\n",
              "    </tr>\n",
              "  </tbody>\n",
              "</table>\n",
              "</div>"
            ],
            "text/plain": [
              "   My weight         C  no of days\n",
              "0   1.276286 -1.262217           0\n",
              "1   2.189809 -2.402414           1\n",
              "2   0.986368 -3.758331           2\n",
              "3   0.669303 -4.756384           3\n",
              "4   0.867726 -4.895289           4"
            ]
          },
          "metadata": {},
          "execution_count": 46
        }
      ]
    },
    {
      "cell_type": "markdown",
      "metadata": {
        "id": "LpFBwRP6SdxP"
      },
      "source": [
        "As you can imagine, there are random numbers on the first two columns, and the last column represents time. Let us plot this data."
      ]
    },
    {
      "cell_type": "code",
      "metadata": {
        "id": "lYI4z5DxRwPp",
        "colab": {
          "base_uri": "https://localhost:8080/",
          "height": 296
        },
        "outputId": "aa92d4da-8cd4-437c-dd48-9d5b6d393054"
      },
      "source": [
        "df.plot(x='no of days', y='My weight')"
      ],
      "execution_count": null,
      "outputs": [
        {
          "output_type": "execute_result",
          "data": {
            "text/plain": [
              "<matplotlib.axes._subplots.AxesSubplot at 0x7f09ec589a50>"
            ]
          },
          "metadata": {},
          "execution_count": 48
        },
        {
          "output_type": "display_data",
          "data": {
            "image/png": "[encoded data removed]",
            "text/plain": [
              "<Figure size 432x288 with 1 Axes>"
            ]
          },
          "metadata": {
            "needs_background": "light"
          }
        }
      ]
    },
    {
      "cell_type": "markdown",
      "metadata": {
        "id": "I5yAMNcFS75i"
      },
      "source": [
        "Here, we plotted only the column B. If you want to see both graphs of B and C, we can use the following command."
      ]
    },
    {
      "cell_type": "code",
      "metadata": {
        "id": "Um2acSbJTHhV",
        "colab": {
          "base_uri": "https://localhost:8080/",
          "height": 296
        },
        "outputId": "ae020a80-c92f-42a1-8caf-f1fe6ba7a34e"
      },
      "source": [
        "df.plot(x='no of days')"
      ],
      "execution_count": null,
      "outputs": [
        {
          "output_type": "execute_result",
          "data": {
            "text/plain": [
              "<matplotlib.axes._subplots.AxesSubplot at 0x7f09ec3bf090>"
            ]
          },
          "metadata": {},
          "execution_count": 49
        },
        {
          "output_type": "display_data",
          "data": {
            "image/png": "[encoded data removed]",
            "text/plain": [
              "<Figure size 432x288 with 1 Axes>"
            ]
          },
          "metadata": {
            "needs_background": "light"
          }
        }
      ]
    },
    {
      "cell_type": "markdown",
      "metadata": {
        "id": "PHFRc0voTA7z"
      },
      "source": [
        "## Scatter plots\n",
        "These are very helpful in visualizing how two variables interact. Let us create some data first."
      ]
    },
    {
      "cell_type": "code",
      "metadata": {
        "id": "TMjKoDB7T6Ag"
      },
      "source": [
        "df = pd.DataFrame(np.random.rand(50, 1), columns=['a'])\n",
        "df['b']= pd.Series(list(range(50)))"
      ],
      "execution_count": null,
      "outputs": []
    },
    {
      "cell_type": "markdown",
      "metadata": {
        "id": "fVO-lHjpTBAn"
      },
      "source": [
        "The first line creates the DataFrame of one column and 50 data points. Then the second column is simply a multiple of the first column. Let us see what the DataFrame looks like."
      ]
    },
    {
      "cell_type": "code",
      "metadata": {
        "id": "40CnyQWdUfaq",
        "colab": {
          "base_uri": "https://localhost:8080/",
          "height": 204
        },
        "outputId": "a5b64c1a-3b4f-4a81-9d18-a56f497bb571"
      },
      "source": [
        "df.head()"
      ],
      "execution_count": null,
      "outputs": [
        {
          "output_type": "execute_result",
          "data": {
            "text/html": [
              "<div>\n",
              "<style scoped>\n",
              "    .dataframe tbody tr th:only-of-type {\n",
              "        vertical-align: middle;\n",
              "    }\n",
              "\n",
              "    .dataframe tbody tr th {\n",
              "        vertical-align: top;\n",
              "    }\n",
              "\n",
              "    .dataframe thead th {\n",
              "        text-align: right;\n",
              "    }\n",
              "</style>\n",
              "<table border=\"1\" class=\"dataframe\">\n",
              "  <thead>\n",
              "    <tr style=\"text-align: right;\">\n",
              "      <th></th>\n",
              "      <th>a</th>\n",
              "      <th>b</th>\n",
              "    </tr>\n",
              "  </thead>\n",
              "  <tbody>\n",
              "    <tr>\n",
              "      <th>0</th>\n",
              "      <td>0.813054</td>\n",
              "      <td>0</td>\n",
              "    </tr>\n",
              "    <tr>\n",
              "      <th>1</th>\n",
              "      <td>0.899619</td>\n",
              "      <td>1</td>\n",
              "    </tr>\n",
              "    <tr>\n",
              "      <th>2</th>\n",
              "      <td>0.656288</td>\n",
              "      <td>2</td>\n",
              "    </tr>\n",
              "    <tr>\n",
              "      <th>3</th>\n",
              "      <td>0.448172</td>\n",
              "      <td>3</td>\n",
              "    </tr>\n",
              "    <tr>\n",
              "      <th>4</th>\n",
              "      <td>0.034532</td>\n",
              "      <td>4</td>\n",
              "    </tr>\n",
              "  </tbody>\n",
              "</table>\n",
              "</div>"
            ],
            "text/plain": [
              "          a  b\n",
              "0  0.813054  0\n",
              "1  0.899619  1\n",
              "2  0.656288  2\n",
              "3  0.448172  3\n",
              "4  0.034532  4"
            ]
          },
          "metadata": {
            "tags": []
          },
          "execution_count": 6
        }
      ]
    },
    {
      "cell_type": "markdown",
      "metadata": {
        "id": "5QCtQKpkUkgC"
      },
      "source": [
        "Now let's make a scatter plot."
      ]
    },
    {
      "cell_type": "code",
      "metadata": {
        "id": "hg_rdir8Umho",
        "colab": {
          "base_uri": "https://localhost:8080/",
          "height": 301
        },
        "outputId": "e6a5661f-1c22-4928-bcdb-50c2d94387e0"
      },
      "source": [
        "df.plot.scatter(x='a', y='b')"
      ],
      "execution_count": null,
      "outputs": [
        {
          "output_type": "execute_result",
          "data": {
            "text/plain": [
              "<matplotlib.axes._subplots.AxesSubplot at 0x7f5966a946d8>"
            ]
          },
          "metadata": {
            "tags": []
          },
          "execution_count": 7
        },
        {
          "output_type": "display_data",
          "data": {
            "image/png": "[encoded data removed]",
            "text/plain": [
              "<Figure size 432x288 with 1 Axes>"
            ]
          },
          "metadata": {
            "tags": []
          }
        }
      ]
    },
    {
      "cell_type": "markdown",
      "metadata": {
        "id": "PBn9Wz34Vb_k"
      },
      "source": [
        "This is what uncorrelated data looks like. It is \"scattered\" all around the plot. Uncorrelated means that the two features are not dependent on each other. Let us make them dependent, so what we can see how the plot changes."
      ]
    },
    {
      "cell_type": "code",
      "metadata": {
        "id": "5M90y_H2VtB8"
      },
      "source": [
        "df['a']= df['a']+df['b']"
      ],
      "execution_count": null,
      "outputs": []
    },
    {
      "cell_type": "markdown",
      "metadata": {
        "id": "HNRNSBviVEFn"
      },
      "source": [
        "We have made column 'a' dependent on column 'a'. Column 'a' is itself column 'b'. Let us see the plot."
      ]
    },
    {
      "cell_type": "code",
      "metadata": {
        "id": "kMuoMZlxWG01",
        "colab": {
          "base_uri": "https://localhost:8080/",
          "height": 301
        },
        "outputId": "c7261738-085d-4d0d-9760-3f79bb159239"
      },
      "source": [
        "df.plot.scatter(x='a', y='b')"
      ],
      "execution_count": null,
      "outputs": [
        {
          "output_type": "execute_result",
          "data": {
            "text/plain": [
              "<matplotlib.axes._subplots.AxesSubplot at 0x7f5966a31710>"
            ]
          },
          "metadata": {
            "tags": []
          },
          "execution_count": 9
        },
        {
          "output_type": "display_data",
          "data": {
            "image/png": "[encoded data removed]",
            "text/plain": [
              "<Figure size 432x288 with 1 Axes>"
            ]
          },
          "metadata": {
            "tags": []
          }
        }
      ]
    },
    {
      "cell_type": "markdown",
      "metadata": {
        "id": "sBFpx3qpWd37"
      },
      "source": [
        "You can see that as 'a' increases 'b' is also increasing similarly. As a result, using the plot, we can see that the two features are correlated. In machine learning, we usually throw away highly correlated data like this."
      ]
    },
    {
      "cell_type": "markdown",
      "metadata": {
        "id": "alR2RP0yW3ku"
      },
      "source": [
        "## Histograms\n",
        "These are useful to see how frequently datapoints occur. Let us create some data."
      ]
    },
    {
      "cell_type": "code",
      "metadata": {
        "id": "l7mGBhxjYTeW"
      },
      "source": [
        "df = pd.DataFrame({'a': np.random.randn(1000), 'b': np.random.randn(1000)})"
      ],
      "execution_count": null,
      "outputs": []
    },
    {
      "cell_type": "markdown",
      "metadata": {
        "id": "MnPuNsA-YjfV"
      },
      "source": [
        "The above line create 1000 random numbers for column 'a', and 'b'. Let us look how frequently each datapoint occurs."
      ]
    },
    {
      "cell_type": "code",
      "metadata": {
        "id": "vUr876ngYrkb",
        "colab": {
          "base_uri": "https://localhost:8080/",
          "height": 287
        },
        "outputId": "69af0cf2-c766-45ce-ed08-a2d54f987f56"
      },
      "source": [
        "df.plot.hist()"
      ],
      "execution_count": null,
      "outputs": [
        {
          "output_type": "execute_result",
          "data": {
            "text/plain": [
              "<matplotlib.axes._subplots.AxesSubplot at 0x7f59657bd240>"
            ]
          },
          "metadata": {
            "tags": []
          },
          "execution_count": 11
        },
        {
          "output_type": "display_data",
          "data": {
            "image/png": "[encoded data removed]",
            "text/plain": [
              "<Figure size 432x288 with 1 Axes>"
            ]
          },
          "metadata": {
            "tags": []
          }
        }
      ]
    },
    {
      "cell_type": "markdown",
      "metadata": {
        "id": "tnuLizMDYuig"
      },
      "source": [
        "As you can see, the x-axis shows the different numbers, and the y-axis shows how frequently they occur in the data. The orange bar shows the column 'b,' and the blue bar shows column 'a.'\n",
        "\n",
        "The graph of 'a' is a little hidden. If we want to see the graph of 'a' better, we can use the alpha parameter, which determines transparency."
      ]
    },
    {
      "cell_type": "code",
      "metadata": {
        "id": "5z-PDKXxZJbv",
        "colab": {
          "base_uri": "https://localhost:8080/",
          "height": 287
        },
        "outputId": "ffd992ad-44a4-4825-e84b-db5d27e3296d"
      },
      "source": [
        "df.plot.hist(alpha=0.5)"
      ],
      "execution_count": null,
      "outputs": [
        {
          "output_type": "execute_result",
          "data": {
            "text/plain": [
              "<matplotlib.axes._subplots.AxesSubplot at 0x7f596572e898>"
            ]
          },
          "metadata": {
            "tags": []
          },
          "execution_count": 12
        },
        {
          "output_type": "display_data",
          "data": {
            "image/png": "[encoded data removed]",
            "text/plain": [
              "<Figure size 432x288 with 1 Axes>"
            ]
          },
          "metadata": {
            "tags": []
          }
        }
      ]
    },
    {
      "cell_type": "code",
      "source": [
        "# Histogram with multiple bars"
      ],
      "metadata": {
        "id": "TimIVJOhitMq"
      },
      "execution_count": null,
      "outputs": []
    },
    {
      "cell_type": "code",
      "source": [
        "import pandas as pd\n",
        "coins = ['penny', 'nickle', 'dime', 'quarter']\n",
        "worth = [0.01, 0.05, 0.10, 0.25]\n",
        "df = pd.DataFrame(worth, columns=['1x'], index=coins)\n",
        "df['2x'] = df['1x'] * 2\n",
        "df['3x'] = df['1x'] * 3\n",
        "df['4x'] = df['1x'] * 4\n",
        "df['5x'] = df['1x'] * 5"
      ],
      "metadata": {
        "id": "XaMNdo7lidq_"
      },
      "execution_count": null,
      "outputs": []
    },
    {
      "cell_type": "code",
      "source": [
        "df"
      ],
      "metadata": {
        "colab": {
          "base_uri": "https://localhost:8080/",
          "height": 175
        },
        "id": "mqICNCrrieBH",
        "outputId": "9081a87c-5d41-404d-ab8f-89f1c2ac2338"
      },
      "execution_count": null,
      "outputs": [
        {
          "output_type": "execute_result",
          "data": {
            "text/html": [
              "<div>\n",
              "<style scoped>\n",
              "    .dataframe tbody tr th:only-of-type {\n",
              "        vertical-align: middle;\n",
              "    }\n",
              "\n",
              "    .dataframe tbody tr th {\n",
              "        vertical-align: top;\n",
              "    }\n",
              "\n",
              "    .dataframe thead th {\n",
              "        text-align: right;\n",
              "    }\n",
              "</style>\n",
              "<table border=\"1\" class=\"dataframe\">\n",
              "  <thead>\n",
              "    <tr style=\"text-align: right;\">\n",
              "      <th></th>\n",
              "      <th>1x</th>\n",
              "      <th>2x</th>\n",
              "      <th>3x</th>\n",
              "      <th>4x</th>\n",
              "      <th>5x</th>\n",
              "    </tr>\n",
              "  </thead>\n",
              "  <tbody>\n",
              "    <tr>\n",
              "      <th>penny</th>\n",
              "      <td>0.01</td>\n",
              "      <td>0.02</td>\n",
              "      <td>0.03</td>\n",
              "      <td>0.04</td>\n",
              "      <td>0.05</td>\n",
              "    </tr>\n",
              "    <tr>\n",
              "      <th>nickle</th>\n",
              "      <td>0.05</td>\n",
              "      <td>0.10</td>\n",
              "      <td>0.15</td>\n",
              "      <td>0.20</td>\n",
              "      <td>0.25</td>\n",
              "    </tr>\n",
              "    <tr>\n",
              "      <th>dime</th>\n",
              "      <td>0.10</td>\n",
              "      <td>0.20</td>\n",
              "      <td>0.30</td>\n",
              "      <td>0.40</td>\n",
              "      <td>0.50</td>\n",
              "    </tr>\n",
              "    <tr>\n",
              "      <th>quarter</th>\n",
              "      <td>0.25</td>\n",
              "      <td>0.50</td>\n",
              "      <td>0.75</td>\n",
              "      <td>1.00</td>\n",
              "      <td>1.25</td>\n",
              "    </tr>\n",
              "  </tbody>\n",
              "</table>\n",
              "</div>"
            ],
            "text/plain": [
              "           1x    2x    3x    4x    5x\n",
              "penny    0.01  0.02  0.03  0.04  0.05\n",
              "nickle   0.05  0.10  0.15  0.20  0.25\n",
              "dime     0.10  0.20  0.30  0.40  0.50\n",
              "quarter  0.25  0.50  0.75  1.00  1.25"
            ]
          },
          "metadata": {},
          "execution_count": 51
        }
      ]
    },
    {
      "cell_type": "code",
      "source": [
        "import matplotlib.pyplot as plt\n",
        "\n",
        "df.plot.bar()\n",
        "plt.show()"
      ],
      "metadata": {
        "colab": {
          "base_uri": "https://localhost:8080/",
          "height": 292
        },
        "id": "_Bzb0XYNiexE",
        "outputId": "c548cdad-5a09-4586-f914-ae32a5b951ac"
      },
      "execution_count": null,
      "outputs": [
        {
          "output_type": "display_data",
          "data": {
            "image/png": "[encoded data removed]",
            "text/plain": [
              "<Figure size 432x288 with 1 Axes>"
            ]
          },
          "metadata": {
            "needs_background": "light"
          }
        }
      ]
    },
    {
      "cell_type": "markdown",
      "metadata": {
        "id": "jIfzGJshZPQm"
      },
      "source": [
        "## Correlation matrices\n",
        "These are essential tools in machine learning. Like we said before, we often need to weed out correlated features and throw them away. The scatter plot helps us visualize 2 features at once, but the correlation matrix can do so for any number of features.\n",
        "\n",
        "Let us build a dataframe."
      ]
    },
    {
      "cell_type": "code",
      "metadata": {
        "id": "KaC6mwosaAd8"
      },
      "source": [
        "df = pd.DataFrame(list(range(50)), columns=['a'])\n",
        "df['b'] = pd.Series(np.random.rand(50))\n",
        "df['c'] = pd.Series(np.random.rand(50))\n",
        "df['d'] = pd.Series(np.random.rand(50))\n",
        "df['e'] = pd.Series(np.random.rand(50))"
      ],
      "execution_count": null,
      "outputs": []
    },
    {
      "cell_type": "markdown",
      "metadata": {
        "id": "M2oLm69iaWQt"
      },
      "source": [
        "Can you pick out which features are correlated?\n",
        "\n",
        "The answer is, none. Right now, all numbers are random, except column 'b.' But still, there is no other column like column 'b,' so it is uncorrelated. Let us insert some correlation into 'c' and 'e,' and high correlation into 'b' and 'd.' 'a' remains uncorrelated."
      ]
    },
    {
      "cell_type": "code",
      "metadata": {
        "id": "fQpWsNu3a9Z3"
      },
      "source": [
        "df['c'] = df['c'] + 0.5 * df['e']\n",
        "df['b'] = df['b'] + df['d']"
      ],
      "execution_count": null,
      "outputs": []
    },
    {
      "cell_type": "markdown",
      "metadata": {
        "id": "KGNx4fiHbU3g"
      },
      "source": [
        "Now let us plot a correlation matrix."
      ]
    },
    {
      "cell_type": "code",
      "metadata": {
        "id": "ITWbS2f1bXym",
        "colab": {
          "base_uri": "https://localhost:8080/",
          "height": 204
        },
        "outputId": "a256780a-82cd-4415-cbfa-b0e96e2b30a4"
      },
      "source": [
        "df.corr()"
      ],
      "execution_count": null,
      "outputs": [
        {
          "output_type": "execute_result",
          "data": {
            "text/html": [
              "<div>\n",
              "<style scoped>\n",
              "    .dataframe tbody tr th:only-of-type {\n",
              "        vertical-align: middle;\n",
              "    }\n",
              "\n",
              "    .dataframe tbody tr th {\n",
              "        vertical-align: top;\n",
              "    }\n",
              "\n",
              "    .dataframe thead th {\n",
              "        text-align: right;\n",
              "    }\n",
              "</style>\n",
              "<table border=\"1\" class=\"dataframe\">\n",
              "  <thead>\n",
              "    <tr style=\"text-align: right;\">\n",
              "      <th></th>\n",
              "      <th>a</th>\n",
              "      <th>b</th>\n",
              "      <th>c</th>\n",
              "      <th>d</th>\n",
              "      <th>e</th>\n",
              "    </tr>\n",
              "  </thead>\n",
              "  <tbody>\n",
              "    <tr>\n",
              "      <th>a</th>\n",
              "      <td>1.000000</td>\n",
              "      <td>0.284311</td>\n",
              "      <td>-0.124045</td>\n",
              "      <td>0.135367</td>\n",
              "      <td>-0.282484</td>\n",
              "    </tr>\n",
              "    <tr>\n",
              "      <th>b</th>\n",
              "      <td>0.284311</td>\n",
              "      <td>1.000000</td>\n",
              "      <td>-0.069390</td>\n",
              "      <td>0.709334</td>\n",
              "      <td>0.001895</td>\n",
              "    </tr>\n",
              "    <tr>\n",
              "      <th>c</th>\n",
              "      <td>-0.124045</td>\n",
              "      <td>-0.069390</td>\n",
              "      <td>1.000000</td>\n",
              "      <td>-0.079350</td>\n",
              "      <td>0.236537</td>\n",
              "    </tr>\n",
              "    <tr>\n",
              "      <th>d</th>\n",
              "      <td>0.135367</td>\n",
              "      <td>0.709334</td>\n",
              "      <td>-0.079350</td>\n",
              "      <td>1.000000</td>\n",
              "      <td>-0.121588</td>\n",
              "    </tr>\n",
              "    <tr>\n",
              "      <th>e</th>\n",
              "      <td>-0.282484</td>\n",
              "      <td>0.001895</td>\n",
              "      <td>0.236537</td>\n",
              "      <td>-0.121588</td>\n",
              "      <td>1.000000</td>\n",
              "    </tr>\n",
              "  </tbody>\n",
              "</table>\n",
              "</div>"
            ],
            "text/plain": [
              "          a         b         c         d         e\n",
              "a  1.000000  0.284311 -0.124045  0.135367 -0.282484\n",
              "b  0.284311  1.000000 -0.069390  0.709334  0.001895\n",
              "c -0.124045 -0.069390  1.000000 -0.079350  0.236537\n",
              "d  0.135367  0.709334 -0.079350  1.000000 -0.121588\n",
              "e -0.282484  0.001895  0.236537 -0.121588  1.000000"
            ]
          },
          "metadata": {
            "tags": []
          },
          "execution_count": 15
        }
      ]
    },
    {
      "cell_type": "markdown",
      "metadata": {
        "id": "TWK2a5HObaPg"
      },
      "source": [
        "As you can see, \"Pandas\" outputs a matrix that shows correlation. If the number is 1, it is highly correlated, and if it 0, there is no correlation. If it is negative, there is a negative correlation, which means that as one feature increases, the other decreases.\n",
        "\n",
        "To plot this matrix, we need to use another library called matplotlib. For the demonstration, we are using the code here. The upcoming chapters include detail on this library."
      ]
    },
    {
      "cell_type": "code",
      "metadata": {
        "id": "vaxH7oFgcBOU",
        "colab": {
          "base_uri": "https://localhost:8080/",
          "height": 275
        },
        "outputId": "ec8fcb57-fde4-4826-bd27-78c56972f4cf"
      },
      "source": [
        "import matplotlib.pyplot as plt\n",
        "\n",
        "plt.matshow(df.corr())\n",
        "plt.show()"
      ],
      "execution_count": null,
      "outputs": [
        {
          "output_type": "display_data",
          "data": {
            "image/png": "[encoded data removed]",
            "text/plain": [
              "<Figure size 288x288 with 1 Axes>"
            ]
          },
          "metadata": {
            "tags": []
          }
        }
      ]
    },
    {
      "cell_type": "markdown",
      "metadata": {
        "id": "6rmGQEm9cHNd"
      },
      "source": [
        "The code `matshow()` stands for \"matrix show\". It takes the correlation matrix and plots it. If you look along the diagonal, there is a high correlation. In the correlation matrix, the diagonals include the correlation of the feature with itself, which is always 1. Thus the diagram shows bright spots for this correlation.\n",
        "\n",
        "As you can see, the other columns that are slightly correlated, are brighter. This helps us visually identify correlation in the data."
      ]
    },
    {
      "cell_type": "markdown",
      "metadata": {
        "id": "AoJxf9v0dOza"
      },
      "source": [
        "## References\n",
        "### Documentation\n",
        "- [Pandas](https://pandas.pydata.org/pandas-docs/stable/user_guide/visualization.html)\n",
        "\n",
        "### Tutorial\n",
        "- [Pandas and matplotlib](https://towardsdatascience.com/a-guide-to-pandas-and-matplotlib-for-data-exploration-56fad95f951c)"
      ]
    }
  ]
}
